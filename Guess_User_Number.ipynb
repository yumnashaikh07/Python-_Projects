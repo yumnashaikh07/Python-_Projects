{
  "nbformat": 4,
  "nbformat_minor": 0,
  "metadata": {
    "colab": {
      "provenance": [],
      "authorship_tag": "ABX9TyOZ0LWwliXK5kP0xbDDCp1l",
      "include_colab_link": true
    },
    "kernelspec": {
      "name": "python3",
      "display_name": "Python 3"
    },
    "language_info": {
      "name": "python"
    }
  },
  "cells": [
    {
      "cell_type": "markdown",
      "metadata": {
        "id": "view-in-github",
        "colab_type": "text"
      },
      "source": [
        "<a href=\"https://colab.research.google.com/github/yumnashaikh07/Python-_Projects/blob/main/Guess_User_Number.ipynb\" target=\"_parent\"><img src=\"https://colab.research.google.com/assets/colab-badge.svg\" alt=\"Open In Colab\"/></a>"
      ]
    },
    {
      "cell_type": "code",
      "execution_count": 5,
      "metadata": {
        "colab": {
          "base_uri": "https://localhost:8080/"
        },
        "id": "SP1xADD_PXCp",
        "outputId": "915cd9ed-5885-431d-e945-4ed223af0879"
      },
      "outputs": [
        {
          "output_type": "stream",
          "name": "stdout",
          "text": [
            "Computer Guessed 1\n",
            "If Computer guessed Low Number (l),\n",
            "If Computer guessed High Number (h), \n",
            "If Computer guessed Correct Number (c)l\n",
            "Your Guessed Number is Lower than Actual Number\n",
            "Computer Guessed 6\n",
            "If Computer guessed Low Number (l),\n",
            "If Computer guessed High Number (h), \n",
            "If Computer guessed Correct Number (c)h\n",
            "Your Guessed Number is Higher than Actual Number\n",
            "Computer Guessed 17\n",
            "If Computer guessed Low Number (l),\n",
            "If Computer guessed High Number (h), \n",
            "If Computer guessed Correct Number (c)h\n",
            "Your Guessed Number is Higher than Actual Number\n",
            "Computer Guessed 5\n",
            "If Computer guessed Low Number (l),\n",
            "If Computer guessed High Number (h), \n",
            "If Computer guessed Correct Number (c)l\n",
            "Your Guessed Number is Lower than Actual Number\n",
            "Computer Guessed 16\n",
            "If Computer guessed Low Number (l),\n",
            "If Computer guessed High Number (h), \n",
            "If Computer guessed Correct Number (c)h\n",
            "Your Guessed Number is Higher than Actual Number\n",
            "Computer Guessed 27\n",
            "If Computer guessed Low Number (l),\n",
            "If Computer guessed High Number (h), \n",
            "If Computer guessed Correct Number (c)h\n",
            "Your Guessed Number is Higher than Actual Number\n",
            "Computer Guessed 19\n",
            "If Computer guessed Low Number (l),\n",
            "If Computer guessed High Number (h), \n",
            "If Computer guessed Correct Number (c)h\n",
            "Your Guessed Number is Higher than Actual Number\n",
            "Computer Guessed 5\n",
            "If Computer guessed Low Number (l),\n",
            "If Computer guessed High Number (h), \n",
            "If Computer guessed Correct Number (c)l\n",
            "Your Guessed Number is Lower than Actual Number\n",
            "Computer Guessed 25\n",
            "If Computer guessed Low Number (l),\n",
            "If Computer guessed High Number (h), \n",
            "If Computer guessed Correct Number (c)h\n",
            "Your Guessed Number is Higher than Actual Number\n",
            "Computer Guessed 2\n",
            "If Computer guessed Low Number (l),\n",
            "If Computer guessed High Number (h), \n",
            "If Computer guessed Correct Number (c)l\n",
            "Your Guessed Number is Lower than Actual Number\n",
            "Computer Guessed 30\n",
            "If Computer guessed Low Number (l),\n",
            "If Computer guessed High Number (h), \n",
            "If Computer guessed Correct Number (c)h\n",
            "Your Guessed Number is Higher than Actual Number\n",
            "Computer Guessed 10\n",
            "If Computer guessed Low Number (l),\n",
            "If Computer guessed High Number (h), \n",
            "If Computer guessed Correct Number (c)c\n",
            "Computer Guessed Right Number\n"
          ]
        }
      ],
      "source": [
        "import random as rd\n",
        "def compguessednumber (x):\n",
        "  low = 1\n",
        "  high = x\n",
        "  feedback = ''\n",
        "  while  feedback != 'c' :\n",
        "    guessednumber = int(rd.randint(low , high))\n",
        "    print(f\"Computer Guessed {guessednumber}\")\n",
        "    feedback = input('If Computer guessed Low Number (l),\\nIf Computer guessed High Number (h), \\nIf Computer guessed Correct Number (c)').lower()\n",
        "    if feedback == 'h':\n",
        "      print(f\"Your Guessed Number is Higher than Actual Number\")\n",
        "    elif feedback == 'l':\n",
        "      print(f\"Your Guessed Number is Lower than Actual Number\")\n",
        "  print(f\"Computer Guessed Right Number\")\n",
        "\n",
        "compguessednumber (30)"
      ]
    },
    {
      "cell_type": "code",
      "source": [
        "# NUMBER GUESSING GAME ALONG RANGE\n",
        "\n",
        "import random as rd\n",
        "from time import sleep\n",
        "def compguessednumber (x):\n",
        "  low = 1\n",
        "  high = 30\n",
        "  feedback = ''\n",
        "  print(\"Think of a number between 1 and 30, and I'll try to guess it!\")\n",
        "  sleep(3)\n",
        "  while  feedback != 'c' and low <= high :\n",
        "    guessednumber = int(rd.randint(low , high))\n",
        "    print(f\"Computer Guessed: {guessednumber}\")\n",
        "    feedback = input('If Computer guessed Low Number (l),\\nIf Computer guessed High Number (h), \\nIf Computer guessed Correct Number (c)').lower()\n",
        "    if feedback == 'h':\n",
        "      high = guessednumber - 1\n",
        "      print(f\"Your Guessed Number is Higher than Actual Number\")\n",
        "    elif feedback == 'l':\n",
        "      low = guessednumber + 1\n",
        "      print(f\"Your Guessed Number is Lower than Actual Number\")\n",
        "  print(f\"Computer Guessed Right Number\")\n",
        "\n",
        "compguessednumber (30)"
      ],
      "metadata": {
        "colab": {
          "base_uri": "https://localhost:8080/"
        },
        "id": "F_2tcL4tXbwN",
        "outputId": "f9dff1e3-dd9d-47b5-ade8-92e8f35255d2"
      },
      "execution_count": 7,
      "outputs": [
        {
          "output_type": "stream",
          "name": "stdout",
          "text": [
            "Think of a number between 1 and 30, and I'll try to guess it!\n",
            "Computer Guessed: 20\n",
            "If Computer guessed Low Number (l),\n",
            "If Computer guessed High Number (h), \n",
            "If Computer guessed Correct Number (c)h\n",
            "Your Guessed Number is Higher than Actual Number\n",
            "Computer Guessed: 11\n",
            "If Computer guessed Low Number (l),\n",
            "If Computer guessed High Number (h), \n",
            "If Computer guessed Correct Number (c)h\n",
            "Your Guessed Number is Higher than Actual Number\n",
            "Computer Guessed: 7\n",
            "If Computer guessed Low Number (l),\n",
            "If Computer guessed High Number (h), \n",
            "If Computer guessed Correct Number (c)h\n",
            "Your Guessed Number is Higher than Actual Number\n",
            "Computer Guessed: 2\n",
            "If Computer guessed Low Number (l),\n",
            "If Computer guessed High Number (h), \n",
            "If Computer guessed Correct Number (c)l\n",
            "Your Guessed Number is Lower than Actual Number\n",
            "Computer Guessed: 6\n",
            "If Computer guessed Low Number (l),\n",
            "If Computer guessed High Number (h), \n",
            "If Computer guessed Correct Number (c)h\n",
            "Your Guessed Number is Higher than Actual Number\n",
            "Computer Guessed: 3\n",
            "If Computer guessed Low Number (l),\n",
            "If Computer guessed High Number (h), \n",
            "If Computer guessed Correct Number (c)l\n",
            "Your Guessed Number is Lower than Actual Number\n",
            "Computer Guessed: 5\n",
            "If Computer guessed Low Number (l),\n",
            "If Computer guessed High Number (h), \n",
            "If Computer guessed Correct Number (c)c\n",
            "Computer Guessed Right Number\n"
          ]
        }
      ]
    }
  ]
}