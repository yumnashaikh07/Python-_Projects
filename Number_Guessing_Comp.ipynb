{
  "cells": [
    {
      "cell_type": "markdown",
      "metadata": {
        "id": "view-in-github",
        "colab_type": "text"
      },
      "source": [
        "<a href=\"https://colab.research.google.com/github/yumnashaikh07/Python-_Projects/blob/main/Number_Guessing_Comp.ipynb\" target=\"_parent\"><img src=\"https://colab.research.google.com/assets/colab-badge.svg\" alt=\"Open In Colab\"/></a>"
      ]
    },
    {
      "cell_type": "code",
      "source": [
        "import random as rd\n",
        "\n",
        "def guessnumberfunction (x):\n",
        "  random_number = rd.randint(1,30)\n",
        "  guessnumber = 0\n",
        "   # Initial dummy value to enter the loop\n",
        "  while (guessnumber != random_number):\n",
        "      guessnumber= int(input(f\"Guess Computer Generated Number between 1 t9 30 : \"))\n",
        "      if guessnumber < random_number:\n",
        "        print(f\"Guessed Number is lower than actual number\")\n",
        "      elif guessnumber > random_number:\n",
        "        print(f\"Guessed Number is higher than actual number\")\n",
        "  print(f\"Guessed number is correct\")\n",
        "\n",
        "guessnumberfunction(30)"
      ],
      "metadata": {
        "colab": {
          "base_uri": "https://localhost:8080/"
        },
        "id": "hpzdh20CKQtG",
        "outputId": "c3bd2fd5-9a21-49a6-bea2-95c78168817b"
      },
      "execution_count": 5,
      "outputs": [
        {
          "output_type": "stream",
          "name": "stdout",
          "text": [
            "Guess Computer Generated Number betwee 1 to 30 : 5\n",
            "Guessed Number is lower than actual number\n",
            "Guess Computer Generated Number betwee 1 to 30 : 17\n",
            "Guessed Number is lower than actual number\n",
            "Guess Computer Generated Number betwee 1 to 30 : 27\n",
            "Guessed Number is lower than actual number\n",
            "Guess Computer Generated Number betwee 1 to 30 : 2\n",
            "Guessed Number is lower than actual number\n",
            "Guess Computer Generated Number betwee 1 to 30 : 29\n",
            "Guessed number is correct\n"
          ]
        }
      ]
    }
  ],
  "metadata": {
    "colab": {
      "provenance": [],
      "authorship_tag": "ABX9TyMi43qJP12mujNZDQcEappv",
      "include_colab_link": true
    },
    "kernelspec": {
      "display_name": "Python 3",
      "name": "python3"
    },
    "language_info": {
      "name": "python"
    }
  },
  "nbformat": 4,
  "nbformat_minor": 0
}