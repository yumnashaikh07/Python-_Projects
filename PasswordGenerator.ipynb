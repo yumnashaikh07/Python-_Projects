{
  "nbformat": 4,
  "nbformat_minor": 0,
  "metadata": {
    "colab": {
      "provenance": [],
      "authorship_tag": "ABX9TyNWxodLTOb4ydBZXwhJ+0DG",
      "include_colab_link": true
    },
    "kernelspec": {
      "name": "python3",
      "display_name": "Python 3"
    },
    "language_info": {
      "name": "python"
    }
  },
  "cells": [
    {
      "cell_type": "markdown",
      "metadata": {
        "id": "view-in-github",
        "colab_type": "text"
      },
      "source": [
        "<a href=\"https://colab.research.google.com/github/yumnashaikh07/Python-_Projects/blob/main/PasswordGenerator.ipynb\" target=\"_parent\"><img src=\"https://colab.research.google.com/assets/colab-badge.svg\" alt=\"Open In Colab\"/></a>"
      ]
    },
    {
      "cell_type": "code",
      "execution_count": 13,
      "metadata": {
        "colab": {
          "base_uri": "https://localhost:8080/"
        },
        "id": "SwZ8cXxFz5zb",
        "outputId": "dd205ad9-3774-4796-d6b3-226c065ac068"
      },
      "outputs": [
        {
          "output_type": "stream",
          "name": "stdout",
          "text": [
            "Enter length of your Password : -=\n",
            "Invalid input. Please enter a valid integer (e.g. 5).\n",
            "Enter length of your Password : 99\n",
            "Enter Length between 1 to 11\n",
            "Enter length of your Password : 5\n",
            "+YZ#y\n"
          ]
        }
      ],
      "source": [
        "import random as rd\n",
        "\n",
        "password = ''\n",
        "char = [\n",
        "    'A', 'B', 'C', 'D', 'E', 'F', 'G', 'H', 'I', 'J', 'K', 'L', 'M', 'N', 'O', 'P', 'Q', 'R', 'S', 'T', 'U', 'V', 'W', 'X', 'Y', 'Z',\n",
        "    'a', 'b', 'c', 'd', 'e', 'f', 'g', 'h', 'i', 'j', 'k', 'l', 'm', 'n', 'o', 'p', 'q', 'r', 's', 't', 'u', 'v', 'w', 'x', 'y', 'z',\n",
        "    '0', '1', '2', '3', '4', '5', '6', '7', '8', '9','!', '@', '#', '$', '%', '^', '&', '*',  '_', '-', '=', '+', ':', ';', '\"', \"'\", ',', '.', '?', '/', '~', '`'\n",
        "        ]\n",
        "valid_length = False\n",
        "for length_attempt in range(3):\n",
        "  try:\n",
        "    length = int(input(\"Enter length of your Password : \"))\n",
        "    if 1<= length <= 11 :\n",
        "      valid_length = True\n",
        "      break\n",
        "    else:\n",
        "        print(f\"Enter Length between 1 to 11\")\n",
        "  except ValueError:\n",
        "        print(\"Invalid input. Please enter a valid integer (e.g. 5).\")\n",
        "\n",
        "\n",
        "if valid_length:\n",
        " for _ in range(length) :\n",
        "        password += rd.choice(char)\n",
        " print(password)\n",
        "else:\n",
        "   print(f\"Too many attempts. Try Later\")"
      ]
    }
  ]
}