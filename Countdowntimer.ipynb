{
  "nbformat": 4,
  "nbformat_minor": 0,
  "metadata": {
    "colab": {
      "provenance": [],
      "authorship_tag": "ABX9TyM43j5/tktCa1HXU4PbBAji",
      "include_colab_link": true
    },
    "kernelspec": {
      "name": "python3",
      "display_name": "Python 3"
    },
    "language_info": {
      "name": "python"
    }
  },
  "cells": [
    {
      "cell_type": "markdown",
      "metadata": {
        "id": "view-in-github",
        "colab_type": "text"
      },
      "source": [
        "<a href=\"https://colab.research.google.com/github/yumnashaikh07/Python-_Projects/blob/main/Countdowntimer.ipynb\" target=\"_parent\"><img src=\"https://colab.research.google.com/assets/colab-badge.svg\" alt=\"Open In Colab\"/></a>"
      ]
    },
    {
      "cell_type": "code",
      "execution_count": 24,
      "metadata": {
        "colab": {
          "base_uri": "https://localhost:8080/"
        },
        "id": "c7IVdyV3tSxk",
        "outputId": "ccbcf0ba-1c38-4b07-871d-ec29506cf142"
      },
      "outputs": [
        {
          "output_type": "stream",
          "name": "stdout",
          "text": [
            "Enter time in Seconds : 7\n",
            "Times up!!!\n"
          ]
        }
      ],
      "source": [
        "import time\n",
        "\n",
        "def countdown(second):\n",
        "  while second:\n",
        "    mins, secs = divmod(second , 60)\n",
        "    timer = '{:02d}:{:02d}'.format(mins, secs)\n",
        "    print(timer, end=\"\\r\")\n",
        "    time.sleep(1)\n",
        "    second -= 1\n",
        "\n",
        "  print(\"Times up!!!\")\n",
        "user_input = input(\"Enter time in Seconds : \")\n",
        "countdown(int(user_input))"
      ]
    }
  ]
}