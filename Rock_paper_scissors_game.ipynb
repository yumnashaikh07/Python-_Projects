{
  "nbformat": 4,
  "nbformat_minor": 0,
  "metadata": {
    "colab": {
      "provenance": [],
      "authorship_tag": "ABX9TyPv1IczZNLwtWD566i2bllT",
      "include_colab_link": true
    },
    "kernelspec": {
      "name": "python3",
      "display_name": "Python 3"
    },
    "language_info": {
      "name": "python"
    }
  },
  "cells": [
    {
      "cell_type": "markdown",
      "metadata": {
        "id": "view-in-github",
        "colab_type": "text"
      },
      "source": [
        "<a href=\"https://colab.research.google.com/github/yumnashaikh07/Python-_Projects/blob/main/Rock_paper_scissors_game.ipynb\" target=\"_parent\"><img src=\"https://colab.research.google.com/assets/colab-badge.svg\" alt=\"Open In Colab\"/></a>"
      ]
    },
    {
      "cell_type": "code",
      "execution_count": 27,
      "metadata": {
        "id": "8lfoew3yZsF5",
        "colab": {
          "base_uri": "https://localhost:8080/"
        },
        "outputId": "40c26634-98d7-43e0-bd83-38312cb7c57e"
      },
      "outputs": [
        {
          "output_type": "stream",
          "name": "stdout",
          "text": [
            "Choose a Sign from below: \n",
            "-Rock\n",
            "-Paper\n",
            "-Scissors\n",
            "You choose : Rock\n",
            "Computer chose: Scissors\n",
            "You Won!\n"
          ]
        }
      ],
      "source": [
        "import random as rd\n",
        "\n",
        "def game ():\n",
        "  gamesigns = [\"Rock\" , \"Paper\", \"Scissors\"]\n",
        "  sign_conversion = {'Rock' : 'r', 'Paper': 'p' , 'Scissors' :'s'}\n",
        "\n",
        "  print(f\"Choose a Sign from below: \")\n",
        "  for sign in gamesigns:\n",
        "    print(f\"-{sign}\")\n",
        "  usersign = input(\"You choose : \")\n",
        "\n",
        "  usersign_short = sign_conversion[usersign]\n",
        "  compsign = rd.choice(gamesigns)\n",
        "  compsign_short = sign_conversion[compsign]\n",
        "  print(f\"Computer chose: {compsign}\")\n",
        "  if usersign == compsign:\n",
        "    return \"Tie\"\n",
        "  if you_win_function(usersign_short, compsign_short):\n",
        "    return \"You Won!\"\n",
        "  else:print(f\"You Lost\")\n",
        "\n",
        "\n",
        "def you_win_function(user , comp):\n",
        "  if (user == 'r' and comp == 's' ) or (user == 's' and comp == 'p') or (user == 'p' and comp == 'r') :\n",
        "    return True\n",
        "print(game())\n"
      ]
    }
  ]
}