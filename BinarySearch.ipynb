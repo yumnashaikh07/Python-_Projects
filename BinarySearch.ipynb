{
  "nbformat": 4,
  "nbformat_minor": 0,
  "metadata": {
    "colab": {
      "provenance": [],
      "authorship_tag": "ABX9TyNipBwOrz+x82p/OdvLDK46",
      "include_colab_link": true
    },
    "kernelspec": {
      "name": "python3",
      "display_name": "Python 3"
    },
    "language_info": {
      "name": "python"
    }
  },
  "cells": [
    {
      "cell_type": "markdown",
      "metadata": {
        "id": "view-in-github",
        "colab_type": "text"
      },
      "source": [
        "<a href=\"https://colab.research.google.com/github/yumnashaikh07/Python-_Projects/blob/main/BinarySearch.ipynb\" target=\"_parent\"><img src=\"https://colab.research.google.com/assets/colab-badge.svg\" alt=\"Open In Colab\"/></a>"
      ]
    },
    {
      "cell_type": "code",
      "execution_count": 1,
      "metadata": {
        "colab": {
          "base_uri": "https://localhost:8080/"
        },
        "id": "M6Wb7mN8kpVu",
        "outputId": "b792cec5-4e3f-443a-db51-9ab967cc7549"
      },
      "outputs": [
        {
          "output_type": "stream",
          "name": "stdout",
          "text": [
            "Naive Search Time 5.263233184814453e-05 seconds\n",
            "Binary Search Time 0.00023833060264587402 seconds\n"
          ]
        }
      ],
      "source": [
        "import random as rd\n",
        "import time\n",
        "\n",
        "def naive_searchfunction (l , target):\n",
        "  for i in range(len(l)):\n",
        "    if l[i] == target:\n",
        "      return i\n",
        "  return -1\n",
        "\n",
        "\n",
        "def binary_searchfunction(l, target , high=None , low=None):\n",
        "  if high is None:\n",
        "    high = len(l) -1\n",
        "  if low is None:\n",
        "    low = 0\n",
        "  # midpoint = (len(l)) //2\n",
        "  midpoint = (high + low) //2\n",
        "\n",
        "\n",
        "  if l[midpoint] == target:\n",
        "    return(midpoint)\n",
        "  elif l[midpoint] < target:\n",
        "    return  binary_searchfunction(l, target, midpoint+1 ,high)\n",
        "  else:\n",
        "    return  binary_searchfunction(l, target,low, midpoint-1 )\n",
        "\n",
        "length = 1000\n",
        "sorting = set()\n",
        "while  len(sorting) < length:\n",
        "  sorting.add(rd.randint(-3*length , 3*length))\n",
        "sorted_list= sorted(list(sorting))\n",
        "\n",
        "start = time.time()\n",
        "for target in sorted_list:\n",
        "  naive_searchfunction(sorted_list , target)\n",
        "end = time.time()\n",
        "print(\"Naive Search Time\", (end-start)/length , \"seconds\")\n",
        "\n",
        "\n",
        "\n",
        "start = time.time()\n",
        "for target in sorted_list:\n",
        "  binary_searchfunction(sorted_list , target)\n",
        "end = time.time()\n",
        "print(\"Binary Search Time\", (end-start)/length , \"seconds\")"
      ]
    }
  ]
}