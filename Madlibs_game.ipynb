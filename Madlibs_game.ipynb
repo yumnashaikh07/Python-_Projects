{
  "nbformat": 4,
  "nbformat_minor": 0,
  "metadata": {
    "colab": {
      "provenance": [],
      "authorship_tag": "ABX9TyO70axxdHdmzkM9+sgj7s4j",
      "include_colab_link": true
    },
    "kernelspec": {
      "name": "python3",
      "display_name": "Python 3"
    },
    "language_info": {
      "name": "python"
    }
  },
  "cells": [
    {
      "cell_type": "markdown",
      "metadata": {
        "id": "view-in-github",
        "colab_type": "text"
      },
      "source": [
        "<a href=\"https://colab.research.google.com/github/yumnashaikh07/Python-_Projects/blob/main/Madlibs_game.ipynb\" target=\"_parent\"><img src=\"https://colab.research.google.com/assets/colab-badge.svg\" alt=\"Open In Colab\"/></a>"
      ]
    },
    {
      "cell_type": "code",
      "source": [
        "variable= \"Happy\"\n",
        "print(\"Trying to print a variable which is \" + variable)\n",
        "print(f\"Trying to print a variable in other way which is {variable}\")\n",
        "print(\"Trying to print variable in another way which is {}\".format(variable))"
      ],
      "metadata": {
        "colab": {
          "base_uri": "https://localhost:8080/"
        },
        "collapsed": true,
        "id": "iS1PRr3J-e_C",
        "outputId": "52ed2b3e-bc03-404d-a291-f13bc447c10e"
      },
      "execution_count": null,
      "outputs": [
        {
          "output_type": "stream",
          "name": "stdout",
          "text": [
            "Trying to print a variable which is Happy\n",
            "Trying to print a variable in other way which is Happy\n",
            "Trying to print variable in another way which is Happy\n"
          ]
        }
      ]
    },
    {
      "cell_type": "code",
      "source": [
        "print(f\"Madlibs Game\")\n",
        "print(f\"I made this Madlibs game for the first time. So, lets compelete this whole sentence\")\n",
        "\n",
        "adjective = input('Insert Adjective: ')\n",
        "animal= input('Insert Animal: ')\n",
        "snack= input('Insert Snack: ')\n",
        "vehicle= input('Insert Vehicle: ')\n",
        "relative= input('Insert Relative: ')\n",
        "game = input('Insert Game :')\n",
        "realtive2 = input('Insert Relative no.2 : ')\n",
        "\n",
        "print(f\"\"\"Yesterday, I went to zoo and saw a {adjective} {animal}, it was eating {snack}.\n",
        "After playing {game} with my {realtive2} for a while i rode a {vehicle} around the zoo with my {relative}\"\"\")\n"
      ],
      "metadata": {
        "colab": {
          "base_uri": "https://localhost:8080/"
        },
        "id": "mWqfZKF6Eczz",
        "outputId": "5a70e04a-c8ee-4980-963b-6b4bbc2ab885"
      },
      "execution_count": null,
      "outputs": [
        {
          "output_type": "stream",
          "name": "stdout",
          "text": [
            "Madlibs Game\n",
            "I made this Madlibs game for the first time. So, lets compelete this whole sentence\n",
            "Insert Adjective: cool\n",
            "Insert Animal: cat\n",
            "Insert Snack: fries\n",
            "Insert Vehicle: buggy\n",
            "Insert Relative: sister\n",
            "Insert Game :cricket\n",
            "Insert Relative no.2 : cousins\n",
            "Yesterday, I went to zoo and saw a cool cat, it was eating fries.\n",
            "After playing cricket with my cousins for a while i rode a buggy around the zoo with my sister\n"
          ]
        }
      ]
    }
  ]
}